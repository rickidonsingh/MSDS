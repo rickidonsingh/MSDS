{
 "cells": [
  {
   "cell_type": "markdown",
   "metadata": {},
   "source": [
    "### Data 620 Assignment 1\n",
    "#### Rickidon Singh\n",
    "#### 6-11-2018"
   ]
  },
  {
   "cell_type": "code",
   "execution_count": 113,
   "metadata": {},
   "outputs": [],
   "source": [
    "#load required packages to create graph \n",
    "%matplotlib inline\n",
    "import networkx as nx\n",
    "import matplotlib.pyplot as plt"
   ]
  },
  {
   "cell_type": "code",
   "execution_count": 114,
   "metadata": {},
   "outputs": [],
   "source": [
    "#create an empty graph, G\n",
    "Grp=nx.Graph()\n",
    "\n",
    "#create edges to the graph\n",
    "\n",
    "G.add_edge('Andre','Beverly')\n",
    "G.add_edge('Andre','Carol')\n",
    "G.add_edge('Andre','Diane')\n",
    "G.add_edge('Beverly','Andre')\n",
    "G.add_edge('Beverly','Diane')\n",
    "G.add_edge('Beverly','Ed')\n",
    "G.add_edge('Carol','Andre')\n",
    "G.add_edge('Carol','Diane')\n",
    "G.add_edge('Carol','Fernando')\n",
    "G.add_edge('Fernando','Garth')\n",
    "G.add_edge('Fernando','Diane')\n",
    "G.add_edge('Fernando','Carol')\n",
    "G.add_edge('Garth','Ed')\n",
    "G.add_edge('Garth','Diane')\n",
    "G.add_edge('Garth','Fernando')\n",
    "G.add_edge('Garth','Heather')\n",
    "G.add_edge('Ed','Beverly')\n",
    "G.add_edge('Ed','Diane')\n",
    "G.add_edge('Ed','Garth')\n",
    "G.add_edge('Heather','Fernando')\n",
    "G.add_edge('Heather','Garth')\n",
    "G.add_edge('Heather','Ike')\n",
    "G.add_edge('Ike','Heather')\n",
    "G.add_edge('Ike','Jane')\n",
    "G.add_edge('Jane','Ike')"
   ]
  },
  {
   "cell_type": "code",
   "execution_count": 115,
   "metadata": {},
   "outputs": [],
   "source": [
    "# Next, set node positions \n",
    "pos={'Andre':(0,1),\n",
    "     'Beverly':(0,-1),\n",
    "     'Carol':(1,2),\n",
    "     'Diane':(1,0),\n",
    "     'Ed':(1,-2),\n",
    "     'Ike':(4,0),\n",
    "     'Garth':(2,-1),\n",
    "     'Jane':(5,0),\n",
    "     'Fernando':(2,1),\n",
    "     'Heather':(3,0)}"
   ]
  },
  {
   "cell_type": "code",
   "execution_count": 116,
   "metadata": {},
   "outputs": [
    {
     "data": {
      "text/plain": [
       "DegreeView({'Andre': 3, 'Beverly': 3, 'Carol': 3, 'Diane': 6, 'Ed': 3, 'Fernando': 4, 'Garth': 4, 'Heather': 3, 'Ike': 2, 'Jane': 1})"
      ]
     },
     "execution_count": 116,
     "metadata": {},
     "output_type": "execute_result"
    }
   ],
   "source": [
    "#confirm the degree of each vertices\n",
    "nx.degree(G)"
   ]
  },
  {
   "cell_type": "code",
   "execution_count": 117,
   "metadata": {},
   "outputs": [
    {
     "data": {
      "image/png": "[encoded data removed]",
      "text/plain": [
       "<Figure size 432x288 with 1 Axes>"
      ]
     },
     "metadata": {},
     "output_type": "display_data"
    }
   ],
   "source": [
    "# draw the edges\n",
    "nx.draw_networkx_edges(G,pos,alpha=0.7,width=3)\n",
    "\n",
    "# draw the nodes\n",
    "nx.draw_networkx_nodes(G,pos,node_size=700)\n",
    "\n",
    "# give labels\n",
    "nx.draw_networkx_labels(G,pos,font_size=11,font_color='k',font_family='Arial',font_weight='normal')\n",
    "\n",
    "#Visualize the graph\n",
    "plt.show() "
   ]
  }
 ],
 "metadata": {
  "kernelspec": {
   "display_name": "Python 3",
   "language": "python",
   "name": "python3"
  },
  "language_info": {
   "codemirror_mode": {
    "name": "ipython",
    "version": 3
   },
   "file_extension": ".py",
   "mimetype": "text/x-python",
   "name": "python",
   "nbconvert_exporter": "python",
   "pygments_lexer": "ipython3",
   "version": "3.6.5"
  }
 },
 "nbformat": 4,
 "nbformat_minor": 2
}
