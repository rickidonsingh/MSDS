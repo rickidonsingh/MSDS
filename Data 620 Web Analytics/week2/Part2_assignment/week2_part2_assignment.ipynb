{
 "cells": [
  {
   "cell_type": "markdown",
   "metadata": {},
   "source": [
    "## Week 2 Part 2 Assignment:\n",
    "## CUNY MSDS DATA620 - Web Analytics\n",
    "---\n",
    "### Team5: Christopher Estevez, Meaghan Burke, Rickidon Singh,  Ritesh Lohiya, Rose Koh\n",
    "### 06/18/2018 (due date)\n",
    "---\n",
    "\n",
    "### Team's Week 2 Task:\n",
    "\n",
    "Centrality measures can be used to predict (positive or negative) outcomes for a node.\n",
    "\n",
    "Your task in this week’s assignment is <b><u>to identify an interesting set of network data that is available on the web (either through web scraping or web APIs) that could be used for analyzing and comparing centrality measures across nodes.</b></u> \n",
    "As an additional constraint, there should be at least one categorical variable available for each node (such as “Male” or “Female”; “Republican”, “Democrat,” or “Undecided”, etc.)\n",
    "\n",
    "In addition to identifying your data source, you should create a high level plan that describes how you would load the data for analysis, and describe a hypothetical outcome that could be predicted from comparing degree centrality across categorical groups. "
   ]
  },
  {
   "cell_type": "markdown",
   "metadata": {},
   "source": [
    "### Identify Data:\n",
    "\n",
    "The group found interesting web resources for network dataset.\n",
    "\n",
    "* http://www-personal.umich.edu/~mejn/netdata/\n",
    "* http://networkrepository.com/networks.php \n",
    "* http://cnets.indiana.edu/resources/data-repository/ \n",
    "* https://networkdata.ics.uci.edu/\n",
    "\n",
    "We identified data at source: http://www-personal.umich.edu/~mejn/netdata/ . The **Books about US politics** dataset has the capacity for centrality metrics as well as a good amount of categorical data for nodes.\n",
    "\n",
    "### About Dataset:\n",
    "\n",
    "A network of books about US politics published around the time of the 2004 presidential election and sold by the online bookseller Amazon.com. Edges between books represent frequent copurchasing of books by the same buyers. The network was compiled by V. Krebs and is unpublished, but can found on Krebs' web site. Thanks to Valdis Krebs for permission to post these data on this web site.\n",
    "\n",
    "### Data Summary:\n",
    "\n",
    "The Books about US politics dataset has the capacity for centrality metrics as well as a good amount of categorical data for nodes. Each nodes has attributes of value `l,n,c` which refers to liberal, neutral, conservative.\n",
    "\n",
    "* Number of nodes: 105\n",
    "* Number of edges: 441\n",
    "* Average degree:   8.4000\n",
    "* Diameter: 7\n"
   ]
  },
  {
   "cell_type": "markdown",
   "metadata": {},
   "source": [
    "### General Process:\n",
    "\n",
    "- Obtain the data\n",
    "- Examine various initial centrality measures of the data\n",
    "- Choose an actionable data subset\n",
    "- Process/clean the subsetted data\n",
    "- Use networkx to transform the data into a network \n",
    "- Visualize the network\n",
    "- Conduct an exploratory analysis of the network  \n",
    "- Calculate the centrality measure(s) \n",
    "- Submit findings "
   ]
  },
  {
   "cell_type": "code",
   "execution_count": null,
   "metadata": {
    "collapsed": true
   },
   "outputs": [],
   "source": []
  }
 ],
 "metadata": {
  "kernelspec": {
   "display_name": "Python 3",
   "language": "python",
   "name": "python3"
  },
  "language_info": {
   "codemirror_mode": {
    "name": "ipython",
    "version": 3
   },
   "file_extension": ".py",
   "mimetype": "text/x-python",
   "name": "python",
   "nbconvert_exporter": "python",
   "pygments_lexer": "ipython3",
   "version": "3.6.2"
  }
 },
 "nbformat": 4,
 "nbformat_minor": 2
}
